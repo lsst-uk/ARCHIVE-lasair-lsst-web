{
 "cells": [
  {
   "cell_type": "markdown",
   "metadata": {},
   "source": [
    "### Pick from watchlist\n",
    "We find objects from a watchlist that are brightening in g or r"
   ]
  },
  {
   "cell_type": "markdown",
   "metadata": {},
   "source": [
    "Get the most recent and second-most recent dm/dt"
   ]
  },
  {
   "cell_type": "code",
   "execution_count": 9,
   "metadata": {},
   "outputs": [],
   "source": [
    "selected = \"\"\"\n",
    "objects.objectId, \n",
    "jdnow() - objects.jdgmax AS age_g, objects.dmdt_g, objects.dmdt_g_2, \n",
    "jdnow() - objects.jdrmax AS age_r, objects.dmdt_r, objects.dmdt_r_2\n",
    "\"\"\""
   ]
  },
  {
   "cell_type": "markdown",
   "metadata": {},
   "source": [
    "Only look at objects that have dm/dt greater than 0.1 mags per day"
   ]
  },
  {
   "cell_type": "code",
   "execution_count": 10,
   "metadata": {},
   "outputs": [],
   "source": [
    "conditions = \"\"\"\n",
    "(objects.dmdt_g >0   OR objects.dmdt_r >0  ) AND\n",
    "(objects.dmdt_g_2 >0 OR objects.dmdt_r_2 >0)\n",
    "\"\"\""
   ]
  },
  {
   "cell_type": "markdown",
   "metadata": {},
   "source": [
    "Please do not use this dummy token. Get your own at https://lasair-iris.roe.ac.uk/api#auth_token"
   ]
  },
  {
   "cell_type": "code",
   "execution_count": 11,
   "metadata": {},
   "outputs": [],
   "source": [
    "import lasair\n",
    "try:\n",
    "    import settings\n",
    "    token = settings.token\n",
    "except:\n",
    "    token = '4b762569bb349bd8d60f1bc7da3f39dbfaefff9a'\n",
    "L = lasair.lasair_client(token)"
   ]
  },
  {
   "cell_type": "markdown",
   "metadata": {},
   "source": [
    "Now run the query. The watchlist is defined at at https://lasair-iris.roe.ac.uk/watchlist/139/"
   ]
  },
  {
   "cell_type": "code",
   "execution_count": 12,
   "metadata": {},
   "outputs": [],
   "source": [
    "rows = L.query(\n",
    "    selected, \n",
    "    'objects, sherlock_classifications, watchlists:139', \n",
    "    conditions, \n",
    "    limit=10)"
   ]
  },
  {
   "cell_type": "markdown",
   "metadata": {},
   "source": [
    "Print the results"
   ]
  },
  {
   "cell_type": "code",
   "execution_count": 13,
   "metadata": {},
   "outputs": [
    {
     "name": "stdout",
     "output_type": "stream",
     "text": [
      "6 objects found\n",
      "https://lasair-iris.roe.ac.uk/object/ZTF18aahitda/ 0.161799 0.119855\n",
      "https://lasair-iris.roe.ac.uk/object/ZTF18abtgunq/ 0.000563131 0.0428095\n",
      "https://lasair-iris.roe.ac.uk/object/ZTF18abtmtit/ 0.0124906 0.0437109\n",
      "https://lasair-iris.roe.ac.uk/object/ZTF18acsremz/ 0.111133 0.0830611\n",
      "https://lasair-iris.roe.ac.uk/object/ZTF18acvgzlg/ 0.132744 0.0394066\n",
      "https://lasair-iris.roe.ac.uk/object/ZTF19acvtuva/ -0.183341 0.0233663\n"
     ]
    }
   ],
   "source": [
    "print(len(rows), 'objects found')\n",
    "for row in rows:\n",
    "    obj_url = 'https://lasair-iris.roe.ac.uk/object/%s/' % row['objectId']\n",
    "    print(obj_url, row['dmdt_g'], row['dmdt_r'])"
   ]
  },
  {
   "cell_type": "code",
   "execution_count": null,
   "metadata": {},
   "outputs": [],
   "source": []
  }
 ],
 "metadata": {
  "kernelspec": {
   "display_name": "Python 3",
   "language": "python",
   "name": "python3"
  },
  "language_info": {
   "codemirror_mode": {
    "name": "ipython",
    "version": 3
   },
   "file_extension": ".py",
   "mimetype": "text/x-python",
   "name": "python",
   "nbconvert_exporter": "python",
   "pygments_lexer": "ipython3",
   "version": "3.7.3"
  }
 },
 "nbformat": 4,
 "nbformat_minor": 2
}
