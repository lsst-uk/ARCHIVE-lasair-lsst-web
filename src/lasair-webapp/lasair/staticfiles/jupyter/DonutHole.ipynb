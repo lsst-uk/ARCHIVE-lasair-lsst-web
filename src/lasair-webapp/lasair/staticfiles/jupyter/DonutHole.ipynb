{
 "cells": [
  {
   "cell_type": "markdown",
   "metadata": {},
   "source": [
    "### Finding SN-like objects with complex space-time\n",
    "We search for objects classified SN, in a rectangle of sky, \n",
    "with no candidates between two times, but candidates before and after those times"
   ]
  },
  {
   "cell_type": "code",
   "execution_count": 6,
   "metadata": {},
   "outputs": [
    {
     "name": "stdout",
     "output_type": "stream",
     "text": [
      "JD now is 2459302.917\n"
     ]
    }
   ],
   "source": [
    "import sys, time\n",
    "\n",
    "jd_now = time.time()/86400 + 40587.0 + 2400000.5\n",
    "print('JD now is %.3f' % jd_now)\n",
    "\n",
    "# boundaries of the time region\n",
    "old   = jd_now - 5\n",
    "young = jd_now - 9\n",
    "\n",
    "# boundaries of the space region\n",
    "ramin = 100\n",
    "ramax = 110\n",
    "decmin = 20\n",
    "decmax = 30"
   ]
  },
  {
   "cell_type": "code",
   "execution_count": 7,
   "metadata": {},
   "outputs": [],
   "source": [
    "import lasair\n",
    "try:\n",
    "    import settings\n",
    "    token = settings.token\n",
    "except:\n",
    "    token = '4b762569bb349bd8d60f1bc7da3f39dbfaefff9a'\n",
    "L = lasair.lasair(token)"
   ]
  },
  {
   "cell_type": "markdown",
   "metadata": {},
   "source": [
    "First pick all the objects classified SN in the rectangle"
   ]
  },
  {
   "cell_type": "code",
   "execution_count": 8,
   "metadata": {},
   "outputs": [],
   "source": [
    "conditions = \"\"\"\n",
    "sherlock_classifications.classification = \"SN\"\n",
    "AND objects.maggmean < 21\n",
    "AND objects.ramean BETWEEN %f AND %f\n",
    "AND objects.decmean BETWEEN %f and %f\n",
    "\"\"\"\n",
    "conditions = conditions % (ramin, ramax, decmin, decmax)"
   ]
  },
  {
   "cell_type": "markdown",
   "metadata": {},
   "source": [
    "Please do not use this dummy token. Get your own at\n",
    "https://lasair-iris.roe.ac.uk/api#auth_token"
   ]
  },
  {
   "cell_type": "code",
   "execution_count": 9,
   "metadata": {},
   "outputs": [],
   "source": [
    "rows = L.query(\n",
    "    'objects.objectId', \n",
    "    'objects, sherlock_classifications', \n",
    "    conditions, \n",
    "    limit=10)\n",
    "objectIds = [row['objectId'] for row in rows]"
   ]
  },
  {
   "cell_type": "markdown",
   "metadata": {},
   "source": [
    "Now we query for objects in the sky ractangle with the Sherlock classification SN"
   ]
  },
  {
   "cell_type": "markdown",
   "metadata": {},
   "source": [
    "Now get all the lightcurves and ask about the donut hole."
   ]
  },
  {
   "cell_type": "code",
   "execution_count": 10,
   "metadata": {},
   "outputs": [
    {
     "name": "stdout",
     "output_type": "stream",
     "text": [
      "ZTF18aabpzrz 23 0 1 FOUND A DONUT!\n",
      "ZTF20actgima 7 0 0 \n",
      "ZTF21aaojxkz 7 0 0 \n",
      "ZTF21aapdvea 12 0 3 FOUND A DONUT!\n",
      "ZTF21aanqseo 3 0 0 \n",
      "ZTF19acyvlss 4 0 0 \n",
      "ZTF21aailzvx 4 0 0 \n",
      "ZTF21aaojvgk 6 0 0 \n",
      "ZTF20aclhizn 3 0 0 \n",
      "ZTF20aaewcfd 2 0 0 \n"
     ]
    }
   ],
   "source": [
    "lcs = L.lightcurves(objectIds)\n",
    "for lc in lcs:\n",
    "    objectId   = lc['objectId']\n",
    "    candidates = lc['candidates']\n",
    "    n_old   = 0\n",
    "    n_mid   = 0\n",
    "    n_young = 0\n",
    "    for cand in candidates:\n",
    "        if cand['jd']   <   old: n_old    += 1\n",
    "        elif cand['jd'] > young: n_young  += 1\n",
    "        else:                     n_mid    += 1\n",
    "    announce = ''\n",
    "    if (n_old > 0) and (n_mid == 0) and (n_young > 0): \n",
    "         announce = 'FOUND A DONUT!'\n",
    "    print(objectId, n_old, n_mid, n_young, announce)"
   ]
  },
  {
   "cell_type": "code",
   "execution_count": null,
   "metadata": {},
   "outputs": [],
   "source": []
  }
 ],
 "metadata": {
  "kernelspec": {
   "display_name": "Python 3",
   "language": "python",
   "name": "python3"
  },
  "language_info": {
   "codemirror_mode": {
    "name": "ipython",
    "version": 3
   },
   "file_extension": ".py",
   "mimetype": "text/x-python",
   "name": "python",
   "nbconvert_exporter": "python",
   "pygments_lexer": "ipython3",
   "version": "3.7.3"
  }
 },
 "nbformat": 4,
 "nbformat_minor": 2
}
