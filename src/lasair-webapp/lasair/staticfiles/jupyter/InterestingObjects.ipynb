{
 "cells": [
  {
   "cell_type": "markdown",
   "metadata": {},
   "source": [
    "### Interesting objects\n",
    "Here we fetch some objects "
   ]
  },
  {
   "cell_type": "code",
   "execution_count": 20,
   "metadata": {},
   "outputs": [],
   "source": [
    "import lasair\n",
    "try:\n",
    "    import settings\n",
    "    token = settings.token\n",
    "except:\n",
    "    token = '4b762569bb349bd8d60f1bc7da3f39dbfaefff9a'\n",
    "L = lasair.lasair(token)"
   ]
  },
  {
   "cell_type": "markdown",
   "metadata": {},
   "source": [
    "Get objectID, posisition, age since most recent detection, and the PanStarrs information"
   ]
  },
  {
   "cell_type": "code",
   "execution_count": 21,
   "metadata": {},
   "outputs": [],
   "source": [
    "selected = \"\"\"\n",
    "objects.objectId, objects.ramean, objects.decmean, \n",
    "jdnow() - objects.jdmax AS age, \n",
    "objects.distpsnr1, objects.sgscore1\n",
    "\"\"\""
   ]
  },
  {
   "cell_type": "markdown",
   "metadata": {},
   "source": [
    "Find objects that did not exist until 4 days ago, that have existed for more than a day, and have specific Sherlock classifications"
   ]
  },
  {
   "cell_type": "code",
   "execution_count": 22,
   "metadata": {},
   "outputs": [],
   "source": [
    "conditions = \"\"\"\n",
    "sherlock_classifications.classification IS NOT NULL\n",
    "AND sherlock_classifications.classification NOT IN ('VS' , 'BS', 'AGN', 'CV')\n",
    "AND objects.jdmin > (jdnow() - 20.0)\n",
    "AND objects.jdmax - objects.jdmin > 1.0\n",
    "AND objects.sgscore1 > 0.75\n",
    "ORDER BY jdmax DESC\n",
    "\"\"\""
   ]
  },
  {
   "cell_type": "code",
   "execution_count": 23,
   "metadata": {},
   "outputs": [],
   "source": [
    "rows = L.query(\n",
    "    selected, \n",
    "    'objects, sherlock_classifications', \n",
    "    conditions, \n",
    "    limit=10)\n",
    "#print(rows)"
   ]
  },
  {
   "cell_type": "code",
   "execution_count": 24,
   "metadata": {},
   "outputs": [
    {
     "name": "stdout",
     "output_type": "stream",
     "text": [
      "10 objects found\n",
      "https://lasair-iris.roe.ac.uk/object/ZTF21aapkarm/ age 1.0 and 4.7 from PS object\n",
      "https://lasair-iris.roe.ac.uk/object/ZTF21aaqwlqf/ age 1.0 and 9.4 from PS object\n",
      "https://lasair-iris.roe.ac.uk/object/ZTF21aaqwlgu/ age 1.0 and 1.7 from PS object\n",
      "https://lasair-iris.roe.ac.uk/object/ZTF18abaqvqf/ age 1.0 and 0.6 from PS object\n",
      "https://lasair-iris.roe.ac.uk/object/ZTF18aanwusn/ age 1.0 and 1.4 from PS object\n",
      "https://lasair-iris.roe.ac.uk/object/ZTF21aaphlty/ age 1.1 and 7.6 from PS object\n",
      "https://lasair-iris.roe.ac.uk/object/ZTF21aapyiku/ age 1.1 and 8.1 from PS object\n",
      "https://lasair-iris.roe.ac.uk/object/ZTF21aapnlfx/ age 1.1 and 10.8 from PS object\n",
      "https://lasair-iris.roe.ac.uk/object/ZTF21aaqvmig/ age 1.2 and 10.5 from PS object\n",
      "https://lasair-iris.roe.ac.uk/object/ZTF21aapdphm/ age 1.3 and 3.3 from PS object\n"
     ]
    }
   ],
   "source": [
    "print('%d objects found' % len(rows))\n",
    "for row in rows:\n",
    "    url = 'https://lasair-iris.roe.ac.uk/object/%s/' % row['objectId']\n",
    "    print(url, 'age %.1f and %.1f from PS object' % (row['age'], row['distpsnr1']))"
   ]
  },
  {
   "cell_type": "code",
   "execution_count": null,
   "metadata": {},
   "outputs": [],
   "source": []
  }
 ],
 "metadata": {
  "kernelspec": {
   "display_name": "Python 3",
   "language": "python",
   "name": "python3"
  },
  "language_info": {
   "codemirror_mode": {
    "name": "ipython",
    "version": 3
   },
   "file_extension": ".py",
   "mimetype": "text/x-python",
   "name": "python",
   "nbconvert_exporter": "python",
   "pygments_lexer": "ipython3",
   "version": "3.7.3"
  }
 },
 "nbformat": 4,
 "nbformat_minor": 2
}
